{
 "cells": [
  {
   "cell_type": "code",
   "execution_count": 1,
   "id": "28abde39-827b-4408-80ee-96eb2657cfdf",
   "metadata": {},
   "outputs": [],
   "source": [
    "import itertools\n",
    "import numpy as np\n",
    "import pandas as pd\n",
    "import seaborn as sns\n",
    "import matplotlib.pyplot as plt\n",
    "from sklearn.utils import shuffle\n",
    "import glob\n",
    "import scipy\n",
    "import re\n",
    "import functools as ft\n"
   ]
  },
  {
   "cell_type": "code",
   "execution_count": 4,
   "id": "c51ef825-777b-465f-a56e-d83387abfbdf",
   "metadata": {},
   "outputs": [],
   "source": [
    "plt.rcParams['font.family'] = 'Arial'\n",
    "plt.rcParams['font.size'] = 9\n",
    "cm = 1/2.54\n",
    "fig_folder = './Figure_1_exports'\n",
    "data_folder = '../all_data/Figure_1_data'\n"
   ]
  },
  {
   "cell_type": "markdown",
   "id": "150bd136-b9dd-4cb8-b4d6-62f5f89a97a8",
   "metadata": {},
   "source": [
    "### Data comes from experiment eCM327"
   ]
  },
  {
   "cell_type": "code",
   "execution_count": 5,
   "id": "9d76a25a-1571-46b5-98a1-dd7e86a4f894",
   "metadata": {},
   "outputs": [
    {
     "data": {
      "text/html": [
       "<div>\n",
       "<style scoped>\n",
       "    .dataframe tbody tr th:only-of-type {\n",
       "        vertical-align: middle;\n",
       "    }\n",
       "\n",
       "    .dataframe tbody tr th {\n",
       "        vertical-align: top;\n",
       "    }\n",
       "\n",
       "    .dataframe thead th {\n",
       "        text-align: right;\n",
       "    }\n",
       "</style>\n",
       "<table border=\"1\" class=\"dataframe\">\n",
       "  <thead>\n",
       "    <tr style=\"text-align: right;\">\n",
       "      <th></th>\n",
       "      <th>experiment_id</th>\n",
       "      <th>plate</th>\n",
       "      <th>well_name</th>\n",
       "      <th>deGFP</th>\n",
       "      <th>K</th>\n",
       "      <th>Mg</th>\n",
       "      <th>WCE</th>\n",
       "      <th>Supp</th>\n",
       "      <th>GFP</th>\n",
       "      <th>day</th>\n",
       "    </tr>\n",
       "  </thead>\n",
       "  <tbody>\n",
       "    <tr>\n",
       "      <th>0</th>\n",
       "      <td>eCM327</td>\n",
       "      <td>1</td>\n",
       "      <td>A1</td>\n",
       "      <td>5</td>\n",
       "      <td>185</td>\n",
       "      <td>8</td>\n",
       "      <td>BL64</td>\n",
       "      <td>S25</td>\n",
       "      <td>825943</td>\n",
       "      <td>1</td>\n",
       "    </tr>\n",
       "    <tr>\n",
       "      <th>1</th>\n",
       "      <td>eCM327</td>\n",
       "      <td>1</td>\n",
       "      <td>A2</td>\n",
       "      <td>5</td>\n",
       "      <td>135</td>\n",
       "      <td>12</td>\n",
       "      <td>BL64</td>\n",
       "      <td>S25</td>\n",
       "      <td>1427753</td>\n",
       "      <td>1</td>\n",
       "    </tr>\n",
       "    <tr>\n",
       "      <th>2</th>\n",
       "      <td>eCM327</td>\n",
       "      <td>1</td>\n",
       "      <td>A3</td>\n",
       "      <td>5</td>\n",
       "      <td>85</td>\n",
       "      <td>10</td>\n",
       "      <td>BL64</td>\n",
       "      <td>S25</td>\n",
       "      <td>1280050</td>\n",
       "      <td>1</td>\n",
       "    </tr>\n",
       "    <tr>\n",
       "      <th>3</th>\n",
       "      <td>eCM327</td>\n",
       "      <td>1</td>\n",
       "      <td>A4</td>\n",
       "      <td>5</td>\n",
       "      <td>185</td>\n",
       "      <td>8</td>\n",
       "      <td>BL65</td>\n",
       "      <td>S25</td>\n",
       "      <td>797727</td>\n",
       "      <td>1</td>\n",
       "    </tr>\n",
       "    <tr>\n",
       "      <th>4</th>\n",
       "      <td>eCM327</td>\n",
       "      <td>1</td>\n",
       "      <td>A6</td>\n",
       "      <td>5</td>\n",
       "      <td>85</td>\n",
       "      <td>10</td>\n",
       "      <td>BL65</td>\n",
       "      <td>S25</td>\n",
       "      <td>1404439</td>\n",
       "      <td>1</td>\n",
       "    </tr>\n",
       "    <tr>\n",
       "      <th>...</th>\n",
       "      <td>...</td>\n",
       "      <td>...</td>\n",
       "      <td>...</td>\n",
       "      <td>...</td>\n",
       "      <td>...</td>\n",
       "      <td>...</td>\n",
       "      <td>...</td>\n",
       "      <td>...</td>\n",
       "      <td>...</td>\n",
       "      <td>...</td>\n",
       "    </tr>\n",
       "    <tr>\n",
       "      <th>82</th>\n",
       "      <td>eCM327</td>\n",
       "      <td>1</td>\n",
       "      <td>O5</td>\n",
       "      <td>5</td>\n",
       "      <td>135</td>\n",
       "      <td>16</td>\n",
       "      <td>BL65</td>\n",
       "      <td>S25</td>\n",
       "      <td>1489144</td>\n",
       "      <td>1</td>\n",
       "    </tr>\n",
       "    <tr>\n",
       "      <th>83</th>\n",
       "      <td>eCM327</td>\n",
       "      <td>1</td>\n",
       "      <td>P1</td>\n",
       "      <td>5</td>\n",
       "      <td>185</td>\n",
       "      <td>12</td>\n",
       "      <td>BL64</td>\n",
       "      <td>S25</td>\n",
       "      <td>1374193</td>\n",
       "      <td>1</td>\n",
       "    </tr>\n",
       "    <tr>\n",
       "      <th>84</th>\n",
       "      <td>eCM327</td>\n",
       "      <td>1</td>\n",
       "      <td>P2</td>\n",
       "      <td>5</td>\n",
       "      <td>135</td>\n",
       "      <td>12</td>\n",
       "      <td>BL64</td>\n",
       "      <td>S25</td>\n",
       "      <td>1537873</td>\n",
       "      <td>1</td>\n",
       "    </tr>\n",
       "    <tr>\n",
       "      <th>85</th>\n",
       "      <td>eCM327</td>\n",
       "      <td>1</td>\n",
       "      <td>P4</td>\n",
       "      <td>5</td>\n",
       "      <td>185</td>\n",
       "      <td>12</td>\n",
       "      <td>BL65</td>\n",
       "      <td>S25</td>\n",
       "      <td>1598970</td>\n",
       "      <td>1</td>\n",
       "    </tr>\n",
       "    <tr>\n",
       "      <th>86</th>\n",
       "      <td>eCM327</td>\n",
       "      <td>1</td>\n",
       "      <td>P5</td>\n",
       "      <td>5</td>\n",
       "      <td>135</td>\n",
       "      <td>12</td>\n",
       "      <td>BL65</td>\n",
       "      <td>S25</td>\n",
       "      <td>1614369</td>\n",
       "      <td>1</td>\n",
       "    </tr>\n",
       "  </tbody>\n",
       "</table>\n",
       "<p>87 rows × 10 columns</p>\n",
       "</div>"
      ],
      "text/plain": [
       "   experiment_id  plate well_name  deGFP    K  Mg   WCE Supp      GFP  day\n",
       "0         eCM327      1        A1      5  185   8  BL64  S25   825943    1\n",
       "1         eCM327      1        A2      5  135  12  BL64  S25  1427753    1\n",
       "2         eCM327      1        A3      5   85  10  BL64  S25  1280050    1\n",
       "3         eCM327      1        A4      5  185   8  BL65  S25   797727    1\n",
       "4         eCM327      1        A6      5   85  10  BL65  S25  1404439    1\n",
       "..           ...    ...       ...    ...  ...  ..   ...  ...      ...  ...\n",
       "82        eCM327      1        O5      5  135  16  BL65  S25  1489144    1\n",
       "83        eCM327      1        P1      5  185  12  BL64  S25  1374193    1\n",
       "84        eCM327      1        P2      5  135  12  BL64  S25  1537873    1\n",
       "85        eCM327      1        P4      5  185  12  BL65  S25  1598970    1\n",
       "86        eCM327      1        P5      5  135  12  BL65  S25  1614369    1\n",
       "\n",
       "[87 rows x 10 columns]"
      ]
     },
     "execution_count": 5,
     "metadata": {},
     "output_type": "execute_result"
    }
   ],
   "source": [
    "exp_data = pd.read_excel('/'.join([data_folder,'WCE_comparison.xlsx'])).drop(columns=['Unnamed: 0'])\n",
    "exp_data"
   ]
  },
  {
   "cell_type": "code",
   "execution_count": 6,
   "id": "32a8cfe6-8378-43bf-a446-8687e4428a11",
   "metadata": {},
   "outputs": [
    {
     "data": {
      "text/plain": [
       "Mg  K    WCE \n",
       "8   85   BL64    3\n",
       "         BL65    3\n",
       "16  185  BL64    3\n",
       "    135  BL65    3\n",
       "         BL64    3\n",
       "    85   BL65    3\n",
       "         BL64    3\n",
       "14  185  BL65    3\n",
       "         BL64    3\n",
       "    135  BL65    3\n",
       "         BL64    3\n",
       "    85   BL65    3\n",
       "         BL64    3\n",
       "12  185  BL65    3\n",
       "         BL64    3\n",
       "16  185  BL65    3\n",
       "12  135  BL64    3\n",
       "    85   BL64    3\n",
       "10  185  BL65    3\n",
       "    135  BL65    3\n",
       "         BL64    3\n",
       "    85   BL65    3\n",
       "         BL64    3\n",
       "8   185  BL65    3\n",
       "         BL64    3\n",
       "    135  BL65    3\n",
       "         BL64    3\n",
       "12  85   BL65    2\n",
       "10  185  BL64    2\n",
       "12  135  BL65    2\n",
       "Name: count, dtype: int64"
      ]
     },
     "execution_count": 6,
     "metadata": {},
     "output_type": "execute_result"
    }
   ],
   "source": [
    "exp_data.value_counts(['Mg','K','WCE'])"
   ]
  },
  {
   "cell_type": "code",
   "execution_count": 7,
   "id": "504df4b2-bb71-4384-8342-39058b40e55b",
   "metadata": {},
   "outputs": [
    {
     "data": {
      "image/png": "[encoded data removed]",
      "text/plain": [
       "<Figure size 782.786x236.22 with 3 Axes>"
      ]
     },
     "metadata": {},
     "output_type": "display_data"
    }
   ],
   "source": [
    "sns.relplot(data=exp_data,x='Mg',y='GFP',hue='WCE',style='WCE',col='K',kind='line',palette='Set1',height=6*cm)\n",
    "# plt.savefig(f'{fig_folder}/Supp_fig-WCE_comparison.svg',format='svg',dpi=300)\n",
    "\n",
    "plt.show()"
   ]
  },
  {
   "cell_type": "code",
   "execution_count": 8,
   "id": "c82f6be4-578a-4b2b-a877-5f0f53d38dcc",
   "metadata": {},
   "outputs": [
    {
     "name": "stderr",
     "output_type": "stream",
     "text": [
      "C:\\Users\\conar\\AppData\\Local\\Temp\\ipykernel_13228\\1239070241.py:1: FutureWarning: The provided callable <function mean at 0x000001ECCF6AF240> is currently using DataFrameGroupBy.mean. In a future version of pandas, the provided callable will be used directly. To keep current behavior pass the string \"mean\" instead.\n",
      "  means = exp_data[['Mg','K','GFP']].groupby(['Mg','K']).agg(np.mean)\n",
      "C:\\Users\\conar\\AppData\\Local\\Temp\\ipykernel_13228\\1239070241.py:2: FutureWarning: The provided callable <function std at 0x000001ECCF6AF380> is currently using DataFrameGroupBy.std. In a future version of pandas, the provided callable will be used directly. To keep current behavior pass the string \"std\" instead.\n",
      "  stdevs = exp_data[['Mg','K','GFP']].groupby(['Mg','K']).agg(np.std)\n"
     ]
    },
    {
     "data": {
      "text/html": [
       "<div>\n",
       "<style scoped>\n",
       "    .dataframe tbody tr th:only-of-type {\n",
       "        vertical-align: middle;\n",
       "    }\n",
       "\n",
       "    .dataframe tbody tr th {\n",
       "        vertical-align: top;\n",
       "    }\n",
       "\n",
       "    .dataframe thead th {\n",
       "        text-align: right;\n",
       "    }\n",
       "</style>\n",
       "<table border=\"1\" class=\"dataframe\">\n",
       "  <thead>\n",
       "    <tr style=\"text-align: right;\">\n",
       "      <th></th>\n",
       "      <th>8</th>\n",
       "      <th>10</th>\n",
       "      <th>12</th>\n",
       "      <th>14</th>\n",
       "      <th>16</th>\n",
       "    </tr>\n",
       "    <tr>\n",
       "      <th>K</th>\n",
       "      <th></th>\n",
       "      <th></th>\n",
       "      <th></th>\n",
       "      <th></th>\n",
       "      <th></th>\n",
       "    </tr>\n",
       "  </thead>\n",
       "  <tbody>\n",
       "    <tr>\n",
       "      <th>85</th>\n",
       "      <td>8.121206</td>\n",
       "      <td>5.007496</td>\n",
       "      <td>2.091675</td>\n",
       "      <td>4.550954</td>\n",
       "      <td>3.958140</td>\n",
       "    </tr>\n",
       "    <tr>\n",
       "      <th>135</th>\n",
       "      <td>3.993702</td>\n",
       "      <td>3.899405</td>\n",
       "      <td>4.866335</td>\n",
       "      <td>4.015623</td>\n",
       "      <td>3.936872</td>\n",
       "    </tr>\n",
       "    <tr>\n",
       "      <th>185</th>\n",
       "      <td>5.581558</td>\n",
       "      <td>7.754653</td>\n",
       "      <td>9.560707</td>\n",
       "      <td>5.139083</td>\n",
       "      <td>5.629638</td>\n",
       "    </tr>\n",
       "  </tbody>\n",
       "</table>\n",
       "</div>"
      ],
      "text/plain": [
       "           8         10        12        14        16\n",
       "K                                                    \n",
       "85   8.121206  5.007496  2.091675  4.550954  3.958140\n",
       "135  3.993702  3.899405  4.866335  4.015623  3.936872\n",
       "185  5.581558  7.754653  9.560707  5.139083  5.629638"
      ]
     },
     "execution_count": 8,
     "metadata": {},
     "output_type": "execute_result"
    }
   ],
   "source": [
    "means = exp_data[['Mg','K','GFP']].groupby(['Mg','K']).agg(np.mean)\n",
    "stdevs = exp_data[['Mg','K','GFP']].groupby(['Mg','K']).agg(np.std)\n",
    "cvs = stdevs / means\n",
    "cvs = cvs.reset_index()\n",
    "cvs['GFP'] = cvs['GFP'] * 100\n",
    "\n",
    "z_df = cvs.set_index(['K','Mg']).unstack()\n",
    "z_df.columns = [8,10,12,14,16]\n",
    "z_df"
   ]
  },
  {
   "cell_type": "code",
   "execution_count": 9,
   "id": "cedb7766-ab65-490a-a4f1-0bc3a392fa95",
   "metadata": {},
   "outputs": [
    {
     "data": {
      "text/plain": [
       "5.207136403288979"
      ]
     },
     "execution_count": 9,
     "metadata": {},
     "output_type": "execute_result"
    }
   ],
   "source": [
    "cvs['GFP'].mean()"
   ]
  },
  {
   "cell_type": "code",
   "execution_count": 10,
   "id": "c289c3f5-c3df-4018-9cc8-c17361c3d649",
   "metadata": {},
   "outputs": [
    {
     "data": {
      "image/png": "[encoded data removed]",
      "text/plain": [
       "<Figure size 157.48x118.11 with 2 Axes>"
      ]
     },
     "metadata": {},
     "output_type": "display_data"
    }
   ],
   "source": [
    "fig,ax = plt.subplots(figsize=[4*cm,3*cm])\n",
    "sns.heatmap(z_df,vmin=0,vmax=15)\n",
    "plt.xlabel('Mg (mM)')\n",
    "plt.ylabel('K (mM)')\n",
    "# plt.savefig(f'{fig_folder}/WCE_comparison.svg',format='svg',dpi=300)\n",
    "\n",
    "plt.show()"
   ]
  },
  {
   "cell_type": "code",
   "execution_count": 11,
   "id": "a8d22534-5669-4431-a492-df04fd16fece",
   "metadata": {},
   "outputs": [
    {
     "data": {
      "text/plain": [
       "9.560706505802305"
      ]
     },
     "execution_count": 11,
     "metadata": {},
     "output_type": "execute_result"
    }
   ],
   "source": [
    "cvs['GFP'].max()"
   ]
  },
  {
   "cell_type": "code",
   "execution_count": null,
   "id": "bf26a3ac-189f-42b6-85b4-b0f83358d010",
   "metadata": {},
   "outputs": [],
   "source": []
  }
 ],
 "metadata": {
  "kernelspec": {
   "display_name": "analysis_env",
   "language": "python",
   "name": "python3"
  },
  "language_info": {
   "codemirror_mode": {
    "name": "ipython",
    "version": 3
   },
   "file_extension": ".py",
   "mimetype": "text/x-python",
   "name": "python",
   "nbconvert_exporter": "python",
   "pygments_lexer": "ipython3",
   "version": "3.12.3"
  }
 },
 "nbformat": 4,
 "nbformat_minor": 5
}
